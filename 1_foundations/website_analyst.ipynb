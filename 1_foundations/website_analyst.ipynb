{
 "cells": [
  {
   "cell_type": "code",
   "execution_count": 23,
   "metadata": {},
   "outputs": [
    {
     "name": "stdout",
     "output_type": "stream",
     "text": [
      "* Running on local URL:  http://127.0.0.1:7873\n",
      "* To create a public link, set `share=True` in `launch()`.\n"
     ]
    },
    {
     "data": {
      "text/html": [
       "<div><iframe src=\"http://127.0.0.1:7873/\" width=\"100%\" height=\"500\" allow=\"autoplay; camera; microphone; clipboard-read; clipboard-write;\" frameborder=\"0\" allowfullscreen></iframe></div>"
      ],
      "text/plain": [
       "<IPython.core.display.HTML object>"
      ]
     },
     "metadata": {},
     "output_type": "display_data"
    },
    {
     "data": {
      "text/plain": []
     },
     "execution_count": 23,
     "metadata": {},
     "output_type": "execute_result"
    },
    {
     "data": {
      "text/markdown": [
       "##Analyzer##\n",
       "\n",
       " I am sorry, but I need the website address to analyze it and provide you with a short description and website name. \n",
       "\n",
       " Russian website? False"
      ],
      "text/plain": [
       "<IPython.core.display.Markdown object>"
      ]
     },
     "metadata": {},
     "output_type": "display_data"
    },
    {
     "name": "stderr",
     "output_type": "stream",
     "text": [
      "Traceback (most recent call last):\n",
      "  File \"c:\\Users\\AndreiMolchanskii\\Agents\\ed\\.venv\\Lib\\site-packages\\gradio\\queueing.py\", line 625, in process_events\n",
      "    response = await route_utils.call_process_api(\n",
      "               ^^^^^^^^^^^^^^^^^^^^^^^^^^^^^^^^^^^\n",
      "  File \"c:\\Users\\AndreiMolchanskii\\Agents\\ed\\.venv\\Lib\\site-packages\\gradio\\route_utils.py\", line 322, in call_process_api\n",
      "    output = await app.get_blocks().process_api(\n",
      "             ^^^^^^^^^^^^^^^^^^^^^^^^^^^^^^^^^^^\n",
      "  File \"c:\\Users\\AndreiMolchanskii\\Agents\\ed\\.venv\\Lib\\site-packages\\gradio\\blocks.py\", line 2220, in process_api\n",
      "    result = await self.call_function(\n",
      "             ^^^^^^^^^^^^^^^^^^^^^^^^^\n",
      "  File \"c:\\Users\\AndreiMolchanskii\\Agents\\ed\\.venv\\Lib\\site-packages\\gradio\\blocks.py\", line 1729, in call_function\n",
      "    prediction = await fn(*processed_input)\n",
      "                 ^^^^^^^^^^^^^^^^^^^^^^^^^^\n",
      "  File \"c:\\Users\\AndreiMolchanskii\\Agents\\ed\\.venv\\Lib\\site-packages\\gradio\\utils.py\", line 871, in async_wrapper\n",
      "    response = await f(*args, **kwargs)\n",
      "               ^^^^^^^^^^^^^^^^^^^^^^^^\n",
      "  File \"c:\\Users\\AndreiMolchanskii\\Agents\\ed\\.venv\\Lib\\site-packages\\gradio\\chat_interface.py\", line 545, in __wrapper\n",
      "    return await submit_fn(*args, **kwargs)\n",
      "           ^^^^^^^^^^^^^^^^^^^^^^^^^^^^^^^^\n",
      "  File \"c:\\Users\\AndreiMolchanskii\\Agents\\ed\\.venv\\Lib\\site-packages\\gradio\\chat_interface.py\", line 925, in _submit_fn\n",
      "    history = self._append_message_to_history(response, history, \"assistant\")\n",
      "              ^^^^^^^^^^^^^^^^^^^^^^^^^^^^^^^^^^^^^^^^^^^^^^^^^^^^^^^^^^^^^^^\n",
      "  File \"c:\\Users\\AndreiMolchanskii\\Agents\\ed\\.venv\\Lib\\site-packages\\gradio\\chat_interface.py\", line 859, in _append_message_to_history\n",
      "    message_dicts = self._message_as_message_dict(message, role)\n",
      "                    ^^^^^^^^^^^^^^^^^^^^^^^^^^^^^^^^^^^^^^^^^^^^\n",
      "  File \"c:\\Users\\AndreiMolchanskii\\Agents\\ed\\.venv\\Lib\\site-packages\\gradio\\chat_interface.py\", line 897, in _message_as_message_dict\n",
      "    for x in msg.get(\"files\", []):\n",
      "             ^^^^^^^\n",
      "AttributeError: 'NoneType' object has no attribute 'get'\n"
     ]
    }
   ],
   "source": [
    "from dotenv import load_dotenv\n",
    "from openai import OpenAI\n",
    "import gradio as gr\n",
    "from pydantic import BaseModel\n",
    "import os\n",
    "from IPython.display import Markdown, display\n",
    "\n",
    "load_dotenv()\n",
    "openai = OpenAI()\n",
    "\n",
    "class Website(BaseModel):\n",
    "    website_name: str\n",
    "    short_description: str\n",
    "    is_russian: bool\n",
    "\n",
    "parcer_system_prompt = f\"You a website analyzer. You will be given a website url and your goal is \\\n",
    "to analyze the content and give to user short summary\"\n",
    "\n",
    "def parcer_user_prompt(website_url):\n",
    "     user_prompt = f\"This is the website adress: {website_url}.\"\n",
    "     user_prompt += f\"Please analyze it and reply with short description, name chosen by you and mark if content in russian\"\n",
    "     return user_prompt\n",
    "\n",
    "\n",
    "gemini = OpenAI(\n",
    "     api_key=os.getenv(\"GOOGLE_API_KEY\"),\n",
    "     base_url=\"https://generativelanguage.googleapis.com/v1beta/openai/\"\n",
    ")\n",
    "\n",
    "def website_analyze(website_url):\n",
    "     messages = [{\"role\": \"system\", \"content\": parcer_system_prompt}] + [{\"role\": \"user\", \"content\": parcer_user_prompt(website_url)}]\n",
    "     response = gemini.beta.chat.completions.parse(model=\"gemini-2.0-flash\", messages=messages, response_format=Website)\n",
    "     return response.choices[0].message.parsed\n",
    "\n",
    "def chat(message, history):\n",
    "     messages = history + [{\"role\": \"user\", \"content\": message}]\n",
    "     reply = website_analyze(message)\n",
    "     formatted_reply = f\"##{reply.website_name}##\\n\\n {reply.short_description} \\n\\n Russian website? {reply.is_russian}\"\n",
    "     return formatted_reply\n",
    "\n",
    "gr.ChatInterface(chat, type=\"messages\").launch()"
   ]
  }
 ],
 "metadata": {
  "kernelspec": {
   "display_name": ".venv",
   "language": "python",
   "name": "python3"
  },
  "language_info": {
   "codemirror_mode": {
    "name": "ipython",
    "version": 3
   },
   "file_extension": ".py",
   "mimetype": "text/x-python",
   "name": "python",
   "nbconvert_exporter": "python",
   "pygments_lexer": "ipython3",
   "version": "3.12.11"
  }
 },
 "nbformat": 4,
 "nbformat_minor": 2
}
